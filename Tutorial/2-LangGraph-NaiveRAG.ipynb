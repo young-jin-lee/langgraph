{
 "cells": [
  {
   "cell_type": "code",
   "execution_count": 1,
   "id": "319fb3d2-8723-4a9e-be5c-afa144d2ed87",
   "metadata": {},
   "outputs": [
    {
     "name": "stderr",
     "output_type": "stream",
     "text": [
      "WARNING: Ignoring invalid distribution ~otebook (C:\\Users\\dof07\\Desktop\\Langgraph-handson\\lg-handson-env\\Lib\\site-packages)\n",
      "WARNING: Ignoring invalid distribution ~otebook (C:\\Users\\dof07\\Desktop\\Langgraph-handson\\lg-handson-env\\Lib\\site-packages)\n",
      "WARNING: Ignoring invalid distribution ~otebook (C:\\Users\\dof07\\Desktop\\Langgraph-handson\\lg-handson-env\\Lib\\site-packages)\n",
      "\n",
      "[notice] A new release of pip is available: 25.0.1 -> 25.1.1\n",
      "[notice] To update, run: python.exe -m pip install --upgrade pip\n"
     ]
    }
   ],
   "source": [
    "%%capture --no-stderr\n",
    "%pip install --quiet -U langgraph"
   ]
  },
  {
   "cell_type": "code",
   "execution_count": 2,
   "id": "b4dab680-767e-4083-8871-c1bde2fb608a",
   "metadata": {},
   "outputs": [],
   "source": [
    "from langchain_core.messages import AIMessageChunk\n",
    "from typing import Any, Dict, List, Callable, Optional\n",
    "from dataclasses import dataclass\n",
    "from langchain_core.agents import AgentAction, AgentFinish, AgentStep\n",
    "from langchain.agents.output_parsers.tools import ToolAgentAction\n",
    "from langchain_core.messages import BaseMessage, HumanMessage, AIMessage\n",
    "from langchain_core.runnables import RunnableConfig\n",
    "from langgraph.graph.state import CompiledStateGraph\n",
    "import uuid"
   ]
  },
  {
   "cell_type": "code",
   "execution_count": 3,
   "id": "a4388027-4262-4f3a-adb6-be7cd552cceb",
   "metadata": {},
   "outputs": [
    {
     "data": {
      "text/plain": [
       "True"
      ]
     },
     "execution_count": 3,
     "metadata": {},
     "output_type": "execute_result"
    }
   ],
   "source": [
    "# API 키를 환경변수로 관리하기 위한 설정 파일\n",
    "from dotenv import load_dotenv\n",
    "\n",
    "# API 키 정보 로드\n",
    "load_dotenv()"
   ]
  },
  {
   "cell_type": "code",
   "execution_count": 4,
   "id": "4a322d32-d67a-4a61-a351-a971bd97506b",
   "metadata": {},
   "outputs": [
    {
     "name": "stdout",
     "output_type": "stream",
     "text": [
      "data/RAGwithLangChain.pdf\n"
     ]
    },
    {
     "name": "stderr",
     "output_type": "stream",
     "text": [
      "CropBox missing from /Page, defaulting to MediaBox\n",
      "CropBox missing from /Page, defaulting to MediaBox\n",
      "CropBox missing from /Page, defaulting to MediaBox\n",
      "CropBox missing from /Page, defaulting to MediaBox\n",
      "CropBox missing from /Page, defaulting to MediaBox\n",
      "CropBox missing from /Page, defaulting to MediaBox\n",
      "CropBox missing from /Page, defaulting to MediaBox\n",
      "CropBox missing from /Page, defaulting to MediaBox\n",
      "CropBox missing from /Page, defaulting to MediaBox\n",
      "CropBox missing from /Page, defaulting to MediaBox\n",
      "CropBox missing from /Page, defaulting to MediaBox\n",
      "CropBox missing from /Page, defaulting to MediaBox\n",
      "CropBox missing from /Page, defaulting to MediaBox\n",
      "CropBox missing from /Page, defaulting to MediaBox\n"
     ]
    }
   ],
   "source": [
    "from rag.pdf import PDFRetrievalChain\n",
    "\n",
    "# PDF 문서를 로드합니다.\n",
    "pdf = PDFRetrievalChain([\"data/RAGwithLangChain.pdf\"]).create_chain()\n",
    "\n",
    "# retriever와 chain을 생성합니다.\n",
    "pdf_retriever = pdf.retriever\n",
    "pdf_chain = pdf.chain"
   ]
  },
  {
   "cell_type": "code",
   "execution_count": 5,
   "id": "43154537-7691-4664-8d11-ada8fcc4415a",
   "metadata": {},
   "outputs": [],
   "source": [
    "search_result = pdf_retriever.invoke(\"RAG를 간단히 설명해주세요\")"
   ]
  },
  {
   "cell_type": "code",
   "execution_count": 6,
   "id": "7d11a5a9-4c0d-4cd6-aab0-ad165b14ae48",
   "metadata": {},
   "outputs": [
    {
     "name": "stdout",
     "output_type": "stream",
     "text": [
      "RAG(검색 보강 생성)는 사용자의 쿼리에 대한 응답을 생성하기 위해 외부 데이터 소스에서 정보를 검색하고, 이를 기반으로 언어 모델이 응답을 생성하는 시스템입니다. 이 과정은 정보 검색(Indexing), 검색(Retrieval), 생성(Generation) 단계로 구성됩니다.\n",
      "\n",
      "**Source**\n",
      "- data/RAGwithLangChain.pdf (page 4)\n"
     ]
    }
   ],
   "source": [
    "# 검색 결과를 기반으로 답변을 생성합니다.\n",
    "answer = pdf_chain.invoke(\n",
    "    {\n",
    "        \"question\": \"RAG를 간단히 설명해주세요\",\n",
    "        \"context\": search_result,\n",
    "        \"chat_history\": [],\n",
    "    }\n",
    ")\n",
    "print(answer)"
   ]
  },
  {
   "cell_type": "markdown",
   "id": "ca9361ed-ab47-4507-b71e-190e074d2b8b",
   "metadata": {},
   "source": [
    "## State Definition"
   ]
  },
  {
   "cell_type": "code",
   "execution_count": 7,
   "id": "00d28222-95ad-4bfe-a5f6-8f8117375d8d",
   "metadata": {},
   "outputs": [],
   "source": [
    "from langgraph.graph import MessagesState\n",
    "from typing import Annotated, TypedDict\n",
    "from langgraph.graph.message import add_messages\n",
    "\n",
    "class GraphState(MessagesState):\n",
    "    # messages: Annotated[list, add_messages] # pre-built in MessagesState\n",
    "    question: Annotated[str, \"Question\"]\n",
    "    context: Annotated[str, \"Context\"]\n",
    "    answer: Annotated[str, \"Answer\"]\n"
   ]
  },
  {
   "cell_type": "markdown",
   "id": "e3e016aa-3add-4411-939f-3dff38704da4",
   "metadata": {},
   "source": [
    "## Node Definition"
   ]
  },
  {
   "cell_type": "code",
   "execution_count": 8,
   "id": "0cb25ebd-dcbf-412a-b86d-e9c6d5696065",
   "metadata": {},
   "outputs": [],
   "source": [
    "from rag.utils import format_docs\n",
    "\n",
    "def get_role_from_messages(msg):\n",
    "    if isinstance(msg, HumanMessage):\n",
    "        return \"user\"\n",
    "    elif isinstance(msg, AIMessage):\n",
    "        return \"assistant\"\n",
    "    else:\n",
    "        return \"assistant\"\n",
    "\n",
    "def messages_to_history(messages):\n",
    "    result =  \"\\n\".join(\n",
    "        [f\"{get_role_from_messages(msg)}: {msg.content}\" for msg in messages]\n",
    "    )\n",
    "    return result\n",
    "\n",
    "# from langchain_teddynote.messages import messages_to_history\n",
    "from rag.utils import format_docs\n",
    "\n",
    "def get_role_from_messages(msg):\n",
    "    if isinstance(msg, HumanMessage):\n",
    "        return \"user\"\n",
    "    elif isinstance(msg, AIMessage):\n",
    "        return \"assistant\"\n",
    "    else:\n",
    "        return \"assistant\"\n",
    "\n",
    "\n",
    "def messages_to_history(messages):\n",
    "    return \"\\n\".join(\n",
    "        [f\"{get_role_from_messages(msg)}: {msg.content}\" for msg in messages]\n",
    "    )\n",
    "\n",
    "\n",
    "# 문서 검색 노드\n",
    "def retrieve_document(state: GraphState) -> GraphState:\n",
    "    # 질문을 상태에서 가져옵니다.\n",
    "    latest_question = state[\"question\"]\n",
    "\n",
    "    # 문서에서 검색하여 관련성 있는 문서를 찾습니다.\n",
    "    retrieved_docs = pdf_retriever.invoke(latest_question)\n",
    "\n",
    "    # 검색된 문서를 형식화합니다.(프롬프트 입력으로 넣어주기 위함)\n",
    "    retrieved_docs = format_docs(retrieved_docs)\n",
    "\n",
    "    # 검색된 문서를 context 키에 저장합니다.\n",
    "    return {\"context\": retrieved_docs}\n",
    "\n",
    "\n",
    "# 답변 생성 노드\n",
    "def llm_answer(state: GraphState) -> GraphState:\n",
    "    # 질문을 상태에서 가져옵니다.\n",
    "    latest_question = state[\"question\"]\n",
    "\n",
    "    # 검색된 문서를 상태에서 가져옵니다.\n",
    "    context = state[\"context\"]\n",
    "\n",
    "    # 체인을 호출하여 답변을 생성합니다.\n",
    "    response = pdf_chain.invoke(\n",
    "        {\n",
    "            \"question\": latest_question,\n",
    "            \"context\": context,\n",
    "            \"chat_history\": messages_to_history(state[\"messages\"]),\n",
    "        }\n",
    "    )\n",
    "    # 생성된 답변, (유저의 질문, 답변) 메시지를 상태에 저장합니다.\n",
    "    return {\n",
    "        \"answer\": response,\n",
    "        \"messages\": [(\"user\", latest_question), (\"assistant\", response)],\n",
    "    }"
   ]
  },
  {
   "cell_type": "markdown",
   "id": "6d25b68a-6c6d-4f02-af05-02a691f84192",
   "metadata": {},
   "source": [
    "## Graph Definition"
   ]
  },
  {
   "cell_type": "code",
   "execution_count": 13,
   "id": "7344dd41-4222-4ecd-a099-ad195b45f370",
   "metadata": {},
   "outputs": [],
   "source": [
    "from langgraph.graph import END, StateGraph\n",
    "from langgraph.checkpoint.memory import MemorySaver\n",
    "\n",
    "# 그래프 생성\n",
    "workflow = StateGraph(GraphState)\n",
    "\n",
    "# 노드 정의\n",
    "workflow.add_node(\"retrieve\", retrieve_document)\n",
    "workflow.add_node(\"llm_answer\", llm_answer)\n",
    "\n",
    "# 엣지 정의\n",
    "workflow.add_edge(\"retrieve\", \"llm_answer\")  # 검색 -> 답변\n",
    "workflow.add_edge(\"llm_answer\", END)  # 답변 -> 종료\n",
    "\n",
    "# 그래프 진입점 설정\n",
    "workflow.set_entry_point(\"retrieve\")\n",
    "\n",
    "# 체크포인터 설정\n",
    "memory = MemorySaver()\n",
    "\n",
    "# 컴파일\n",
    "app = workflow.compile(checkpointer=memory)"
   ]
  },
  {
   "cell_type": "code",
   "execution_count": 14,
   "id": "bb468871-ada6-486d-9db6-282412d14f4a",
   "metadata": {},
   "outputs": [
    {
     "data": {
      "image/png": "[encoded data removed]",
      "text/plain": [
       "<IPython.core.display.Image object>"
      ]
     },
     "metadata": {},
     "output_type": "display_data"
    }
   ],
   "source": [
    "from utils.visualize import visualize_graph\n",
    "visualize_graph(app)"
   ]
  },
  {
   "cell_type": "code",
   "execution_count": 11,
   "id": "9d6e51a7-410b-4050-b709-e8c1ff5dad22",
   "metadata": {},
   "outputs": [],
   "source": [
    "# from dataclasses import dataclass\n",
    "# from langgraph.graph.state import CompiledStateGraph\n",
    "# from IPython.display import Image, display\n",
    "\n",
    "# @dataclass\n",
    "# class NodeStyles:\n",
    "#     default: str = (\n",
    "#         \"fill:#45C4B0, fill-opacity:0.3, color:#23260F, stroke:#45C4B0, stroke-width:1px, font-weight:bold, line-height:1.2\"  # 기본 색상\n",
    "#     )\n",
    "#     first: str = (\n",
    "#         \"fill:#45C4B0, fill-opacity:0.1, color:#23260F, stroke:#45C4B0, stroke-width:1px, font-weight:normal, font-style:italic, stroke-dasharray:2,2\"  # 점선 테두리\n",
    "#     )\n",
    "#     last: str = (\n",
    "#         \"fill:#45C4B0, fill-opacity:1, color:#000000, stroke:#45C4B0, stroke-width:1px, font-weight:normal, font-style:italic, stroke-dasharray:2,2\"  # 점선 테두리\n",
    "#     )\n",
    "    \n",
    "# def visualize_graph(graph, xray=False):\n",
    "#     \"\"\"\n",
    "#     CompiledStateGraph 객체를 시각화하여 표시합니다.\n",
    "\n",
    "#     이 함수는 주어진 그래프 객체가 CompiledStateGraph 인스턴스인 경우\n",
    "#     해당 그래프를 Mermaid 형식의 PNG 이미지로 변환하여 표시합니다.\n",
    "\n",
    "#     Args:\n",
    "#         graph: 시각화할 그래프 객체. CompiledStateGraph 인스턴스여야 합니다.\n",
    "\n",
    "#     Returns:\n",
    "#         None\n",
    "\n",
    "#     Raises:\n",
    "#         Exception: 그래프 시각화 과정에서 오류가 발생한 경우 예외를 출력합니다.\n",
    "#     \"\"\"\n",
    "#     try:\n",
    "#         # 그래프 시각화\n",
    "#         if isinstance(graph, CompiledStateGraph):\n",
    "#             display(\n",
    "#                 Image(\n",
    "#                     graph.get_graph(xray=xray).draw_mermaid_png(\n",
    "#                         background_color=\"white\",\n",
    "#                         node_colors=NodeStyles(),\n",
    "#                     )\n",
    "#                 )\n",
    "#             )\n",
    "#     except Exception as e:\n",
    "#         print(f\"[ERROR] Visualize Graph Error: {e}\")"
   ]
  },
  {
   "cell_type": "code",
   "execution_count": 14,
   "id": "1979100e-1238-45d7-b8be-30df5b4b2c49",
   "metadata": {},
   "outputs": [
    {
     "data": {
      "image/png": "[encoded data removed]",
      "text/plain": [
       "<IPython.core.display.Image object>"
      ]
     },
     "metadata": {},
     "output_type": "display_data"
    }
   ],
   "source": [
    "visualize_graph(app)"
   ]
  },
  {
   "cell_type": "code",
   "execution_count": null,
   "id": "73362bb6-94a8-4d2d-b17a-f8a60970ba0b",
   "metadata": {},
   "outputs": [],
   "source": []
  },
  {
   "cell_type": "code",
   "execution_count": null,
   "id": "507719c5-63a4-4e9f-b6db-c0adc91ee8bb",
   "metadata": {},
   "outputs": [],
   "source": []
  }
 ],
 "metadata": {
  "kernelspec": {
   "display_name": "Python 3 (ipykernel)",
   "language": "python",
   "name": "python3"
  },
  "language_info": {
   "codemirror_mode": {
    "name": "ipython",
    "version": 3
   },
   "file_extension": ".py",
   "mimetype": "text/x-python",
   "name": "python",
   "nbconvert_exporter": "python",
   "pygments_lexer": "ipython3",
   "version": "3.13.3"
  }
 },
 "nbformat": 4,
 "nbformat_minor": 5
}
