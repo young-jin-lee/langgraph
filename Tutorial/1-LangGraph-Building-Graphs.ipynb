{
 "cells": [
  {
   "cell_type": "code",
   "execution_count": 36,
   "id": "c38e734b-af60-4b02-aa86-890ab202bfa2",
   "metadata": {},
   "outputs": [
    {
     "name": "stderr",
     "output_type": "stream",
     "text": [
      "WARNING: Ignoring invalid distribution ~otebook (C:\\Users\\dof07\\Desktop\\Langgraph-handson\\lg-handson-env\\Lib\\site-packages)\n",
      "WARNING: Ignoring invalid distribution ~otebook (C:\\Users\\dof07\\Desktop\\Langgraph-handson\\lg-handson-env\\Lib\\site-packages)\n",
      "WARNING: Ignoring invalid distribution ~otebook (C:\\Users\\dof07\\Desktop\\Langgraph-handson\\lg-handson-env\\Lib\\site-packages)\n",
      "\n",
      "[notice] A new release of pip is available: 25.0.1 -> 25.1.1\n",
      "[notice] To update, run: python.exe -m pip install --upgrade pip\n"
     ]
    }
   ],
   "source": [
    "%%capture --no-stderr\n",
    "%pip install --quiet -U langgraph"
   ]
  },
  {
   "cell_type": "markdown",
   "id": "adc6a115-b216-4dbe-bd86-13ac795be842",
   "metadata": {},
   "source": [
    "## State Definition"
   ]
  },
  {
   "cell_type": "code",
   "execution_count": 37,
   "id": "df1e0331-107f-48f8-94cd-43c91c2913c6",
   "metadata": {},
   "outputs": [],
   "source": [
    "from typing import TypedDict, Annotated, List\n",
    "from langchain_core.documents import Document\n",
    "import operator\n",
    "from langgraph.graph import MessagesState\n",
    "\n",
    "# State 정의\n",
    "class GraphState(MessagesState):\n",
    "    # Add any keys needed beyond messages, which is pre-built \n",
    "    # Which means the below is pre-defined and built-in\n",
    "    # messages: Annotated[List[BaseMessage], operator.add]\n",
    "    context: Annotated[List[Document], operator.add]\n",
    "    answer: Annotated[List[Document], operator.add]\n",
    "    question: Annotated[str, \"user question\"]\n",
    "    sql_query: Annotated[str, \"sql query\"]\n",
    "    binary_score: Annotated[str, \"1 or 0\"]"
   ]
  },
  {
   "cell_type": "markdown",
   "id": "46f6aec3-6d38-401a-88b1-b3a25e6708ec",
   "metadata": {},
   "source": [
    "## Node Definition"
   ]
  },
  {
   "cell_type": "markdown",
   "id": "2b907938-aa3d-4a37-844c-98c38c8c73cf",
   "metadata": {},
   "source": [
    "#### - Define nodes with functions; later, we can do the same using classes."
   ]
  },
  {
   "cell_type": "code",
   "execution_count": 38,
   "id": "7385fd88-bcb2-4b26-9eb5-0e571dd7761d",
   "metadata": {},
   "outputs": [],
   "source": [
    "def retrieve(state: GraphState) -> GraphState:\n",
    "    # Search and retrieve documents\n",
    "    documents = \"My Searched Documents\"\n",
    "    print(\"retrieve func call\")\n",
    "    # return GraphState(context=documents) # This is explicitly clearer.\n",
    "    return {\"context\":[documents]} # Same as above\n",
    "\n",
    "def rewrite_query(state: GraphState) -> GraphState:\n",
    "    # rewrite the query\n",
    "    documents = \"My Searched Documents\"\n",
    "    print(\"rewrite_query func call\")\n",
    "    return GraphState(context=[documents])\n",
    "\n",
    "def llm_gpt_execute(state: GraphState) -> GraphState:\n",
    "    # execute LLM\n",
    "    answer = \"Answer generated from GPT\"\n",
    "    print(\"llm_gpt_execute func call\")\n",
    "    return GraphState(answer=[answer])\n",
    "    \n",
    "def llm_claude_execute(state: GraphState) -> GraphState:\n",
    "    # execute LLM\n",
    "    answer = \"Answer generated from Claude\"\n",
    "    print(\"llm_claude_execute func call\")\n",
    "    return GraphState(answer=[answer])\n",
    "\n",
    "def relevance_check(state: GraphState) -> GraphState:\n",
    "    # Check for relevance\n",
    "    binary_score = \"1\"\n",
    "    # binary_score = \"0\"\n",
    "    print(\"relevance_check func call\")\n",
    "    return GraphState(binary_score=binary_score)\n",
    "\n",
    "def sum_up(state: GraphState) -> GraphState:\n",
    "    # Conclusive summary\n",
    "    answer = \"Conclusive summary\"\n",
    "    print(\"sum_up func call\")\n",
    "    return GraphState(answer=[answer])\n",
    "\n",
    "def search_on_web(state: GraphState) -> GraphState:\n",
    "    # Search on web\n",
    "    documents = state[\"context\"] = \"existing documents\"\n",
    "    searched_documents = \"new documents\"\n",
    "    documents += searched_documents\n",
    "    print(\"search_on_web func call\")\n",
    "    return GraphState(context=[documents])\n",
    "\n",
    "def get_table_info(state: GraphState) -> GraphState:\n",
    "    # Get Table metadata\n",
    "    table_info = \"Table info\"\n",
    "    print(\"get_table_info func call\")\n",
    "    return GraphState(context=[table_info])\n",
    "\n",
    "def generate_sql_query(state: GraphState) -> GraphState:\n",
    "    # generate sql query\n",
    "    sql_query = \"sql query\"\n",
    "    print(\"generate_sql_query func call\")\n",
    "    return GraphState(sql_query=sql_query)\n",
    "\n",
    "def execute_sql_query(state: GraphState) -> GraphState:\n",
    "    # execute sql query\n",
    "    sql_result = \"sql result\"\n",
    "    print(\"execute_sql_query func call\")\n",
    "    return GraphState(context=sql_result)\n",
    "\n",
    "def validate_sql_query(state: GraphState) -> GraphState:\n",
    "    # validate sql query\n",
    "    binary_score = \"validation result\"\n",
    "    print(\"validate_sql_query func call\")\n",
    "    return GraphState(binary_score=binary_score)\n",
    "\n",
    "def handle_error(state:GraphState) -> GraphState:\n",
    "    # Handle errors\n",
    "    error = \"error contents\"\n",
    "    print(\"handle_error func call\")\n",
    "    return GraphState(context=error)\n",
    "\n",
    "def decision(state: GraphState) -> GraphState:\n",
    "    # make decisions\n",
    "    decision = \"decision\"\n",
    "    print(\"decision func call\")\n",
    "\n",
    "    if state[\"binary_score\"] == \"1\":\n",
    "        return \"END\"\n",
    "    else:\n",
    "        return \"re-search\"\n",
    "    return decision"
   ]
  },
  {
   "cell_type": "markdown",
   "id": "4c21f9f6-afcb-4ca6-b395-44dfa061e0a8",
   "metadata": {},
   "source": [
    "## Graph definition"
   ]
  },
  {
   "cell_type": "code",
   "execution_count": 43,
   "id": "e7a7e0f2-8f34-4d9c-abce-21cd7e0cfa5d",
   "metadata": {},
   "outputs": [
    {
     "data": {
      "image/png": "[encoded data removed]",
      "text/plain": [
       "<IPython.core.display.Image object>"
      ]
     },
     "metadata": {},
     "output_type": "display_data"
    }
   ],
   "source": [
    "from langgraph.graph import END, StateGraph\n",
    "from langgraph.checkpoint.memory import MemorySaver\n",
    "from IPython.display import Image, display\n",
    "\n",
    "# (1) Conventional RAG\n",
    "# (2) re-search\n",
    "# (3) Multi-LLM\n",
    "# (4) re-write query\n",
    "\n",
    "# Add nodes\n",
    "workflow = StateGraph(GraphState)\n",
    "workflow.add_node(\"retrieve docs\", retrieve)\n",
    "# workflow.add_node(\"rewrite query\", rewrite_query) # (4)\n",
    "workflow.add_node(\"request GPT\", llm_gpt_execute)\n",
    "# workflow.add_node(\"request Claude\", llm_clude_execute) # (3)\n",
    "workflow.add_node(\"Check for relevance_GPT\", relevance_check)\n",
    "# workflow.add_node(\"Check for relevance_Claude\", relevance_check) # (3)\n",
    "workflow.add_node(\"summarize\", sum_up)\n",
    "\n",
    "# Add edges\n",
    "\n",
    "workflow.add_edge(\"retrieve docs\", \"request GPT\")\n",
    "# workflow.add_edge(\"retrieve docs\", \"request Claude\") # (3)\n",
    "# workflow.add_edge(\"rewrite query\", \"retrieve docs\") # (4)\n",
    "workflow.add_edge(\"request GPT\", \"Check for relevance_GPT\")\n",
    "workflow.add_edge(\"Check for relevance_GPT\", \"summarize\")\n",
    "# workflow.add_edge(\"request Claude\", \"Check for relevance_Claude\") # (3)\n",
    "# workflow.add_edge(\"Check for relevance_Claude\", \"summarize\") # (3)\n",
    "# workflow.add_edge(\"summarize\", END) # (2) - off\n",
    "\n",
    "# Add contitional Edges\n",
    "workflow.add_conditional_edges(\n",
    "    \"summarize\",\n",
    "    decision,\n",
    "    {\n",
    "        \"re-search\": \"retrieve docs\", # if the summary is not relevant to the user prompt, search docs again\n",
    "        \"END\": END # if the summary is relevant to the user prompt, END\n",
    "    },\n",
    ")\n",
    "\n",
    "# Set the starting node\n",
    "workflow.set_entry_point(\"retrieve docs\")\n",
    "\n",
    "# Set memory\n",
    "memory = MemorySaver()\n",
    "\n",
    "# Compile the workflow\n",
    "app = workflow.compile(checkpointer=memory)\n",
    "\n",
    "# Visualize the result\n",
    "display(Image(app.get_graph().draw_mermaid_png()))"
   ]
  },
  {
   "cell_type": "code",
   "execution_count": 42,
   "id": "fefbde19-fb37-4016-8145-17b6c5137d2c",
   "metadata": {},
   "outputs": [
    {
     "name": "stdout",
     "output_type": "stream",
     "text": [
      "---\n",
      "config:\n",
      "  flowchart:\n",
      "    curve: linear\n",
      "---\n",
      "graph TD;\n",
      "\t__start__([<p>__start__</p>]):::first\n",
      "\tretrieve_docs(retrieve docs)\n",
      "\trequest_GPT(request GPT)\n",
      "\tCheck_for_relevance_GPT(Check for relevance_GPT)\n",
      "\tsummarize(summarize)\n",
      "\t__end__([<p>__end__</p>]):::last\n",
      "\tCheck_for_relevance_GPT --> summarize;\n",
      "\t__start__ --> retrieve_docs;\n",
      "\trequest_GPT --> Check_for_relevance_GPT;\n",
      "\tretrieve_docs --> request_GPT;\n",
      "\tsummarize -. &nbsp;END&nbsp; .-> __end__;\n",
      "\tsummarize -. &nbsp;re-search&nbsp; .-> retrieve_docs;\n",
      "\tclassDef default fill:#f2f0ff,line-height:1.2\n",
      "\tclassDef first fill-opacity:0\n",
      "\tclassDef last fill:#bfb6fc\n",
      "\n"
     ]
    }
   ],
   "source": [
    "mermaid_code = app.get_graph().draw_mermaid()\n",
    "print(mermaid_code)"
   ]
  },
  {
   "cell_type": "code",
   "execution_count": 41,
   "id": "d2995306-8adc-4a9a-931c-71cd37c010bb",
   "metadata": {},
   "outputs": [
    {
     "name": "stdout",
     "output_type": "stream",
     "text": [
      "retrieve func call\n",
      "llm_gpt_execute func call\n",
      "relevance_check func call\n",
      "sum_up func call\n",
      "decision func call\n",
      "================================\u001b[1m Human Message \u001b[0m=================================\n",
      "\n",
      "Hello LangGraph\n"
     ]
    }
   ],
   "source": [
    "from langchain_core.messages import AIMessage, HumanMessage\n",
    "config={\n",
    "        \"configurable\": {\n",
    "            \"thread_id\": \"test-thread-123\",\n",
    "        }\n",
    "    }\n",
    "messages = app.invoke(\n",
    "    {\"messages\": [HumanMessage(content=\"Hello LangGraph\")]},\n",
    "    config=config\n",
    ")\n",
    "for m in messages['messages']:\n",
    "    m.pretty_print()"
   ]
  },
  {
   "cell_type": "code",
   "execution_count": null,
   "id": "15c818c4-1c3e-41f8-b329-0d0c81a047b1",
   "metadata": {},
   "outputs": [],
   "source": []
  },
  {
   "cell_type": "code",
   "execution_count": null,
   "id": "3deaff3f-48c8-4d46-9866-90c638d4badd",
   "metadata": {},
   "outputs": [],
   "source": []
  }
 ],
 "metadata": {
  "kernelspec": {
   "display_name": "Python 3 (ipykernel)",
   "language": "python",
   "name": "python3"
  },
  "language_info": {
   "codemirror_mode": {
    "name": "ipython",
    "version": 3
   },
   "file_extension": ".py",
   "mimetype": "text/x-python",
   "name": "python",
   "nbconvert_exporter": "python",
   "pygments_lexer": "ipython3",
   "version": "3.13.3"
  }
 },
 "nbformat": 4,
 "nbformat_minor": 5
}
