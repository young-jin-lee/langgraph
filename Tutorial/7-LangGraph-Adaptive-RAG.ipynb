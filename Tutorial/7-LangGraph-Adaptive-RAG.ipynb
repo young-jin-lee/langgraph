{
 "cells": [
  {
   "cell_type": "code",
   "execution_count": 115,
   "id": "cfcad00d-86c6-478c-a0b0-145f604489e6",
   "metadata": {},
   "outputs": [
    {
     "data": {
      "text/plain": [
       "True"
      ]
     },
     "execution_count": 115,
     "metadata": {},
     "output_type": "execute_result"
    }
   ],
   "source": [
    "from dotenv import load_dotenv\n",
    "load_dotenv()"
   ]
  },
  {
   "cell_type": "code",
   "execution_count": 116,
   "id": "f9c685fe-0365-400d-abbe-a3822f6d6bb1",
   "metadata": {},
   "outputs": [],
   "source": [
    "MODEL_NAME = \"gpt-4o-mini\""
   ]
  },
  {
   "cell_type": "markdown",
   "id": "1da0c0bb-824b-4ff5-a550-902a5a2d07c7",
   "metadata": {},
   "source": [
    "## Tools"
   ]
  },
  {
   "cell_type": "markdown",
   "id": "4c2b5d20-5c43-4278-b415-aeac04f99f9b",
   "metadata": {},
   "source": [
    "### PDF Retriever and Retrieval Chain"
   ]
  },
  {
   "cell_type": "code",
   "execution_count": 117,
   "id": "2dae17b2-5f4e-4bf9-b83f-0d5143964a8d",
   "metadata": {},
   "outputs": [
    {
     "name": "stderr",
     "output_type": "stream",
     "text": [
      "CropBox missing from /Page, defaulting to MediaBox\n",
      "CropBox missing from /Page, defaulting to MediaBox\n",
      "CropBox missing from /Page, defaulting to MediaBox\n",
      "CropBox missing from /Page, defaulting to MediaBox\n",
      "CropBox missing from /Page, defaulting to MediaBox\n",
      "CropBox missing from /Page, defaulting to MediaBox\n",
      "CropBox missing from /Page, defaulting to MediaBox\n",
      "CropBox missing from /Page, defaulting to MediaBox\n",
      "CropBox missing from /Page, defaulting to MediaBox\n",
      "CropBox missing from /Page, defaulting to MediaBox\n",
      "CropBox missing from /Page, defaulting to MediaBox\n",
      "CropBox missing from /Page, defaulting to MediaBox\n",
      "CropBox missing from /Page, defaulting to MediaBox\n",
      "CropBox missing from /Page, defaulting to MediaBox\n"
     ]
    },
    {
     "name": "stdout",
     "output_type": "stream",
     "text": [
      "data/RAGwithLangChain.pdf\n"
     ]
    }
   ],
   "source": [
    "from rag.pdf import PDFRetrievalChain\n",
    "\n",
    "# PDF 문서를 로드합니다.\n",
    "pdf_chain_obj = PDFRetrievalChain([\"data/RAGwithLangChain.pdf\"]).create_chain()\n",
    "\n",
    "# retriever와 chain을 생성합니다.\n",
    "pdf_retriever = pdf_chain_obj.retriever\n",
    "pdf_chain = pdf_chain_obj.chain"
   ]
  },
  {
   "cell_type": "code",
   "execution_count": 118,
   "id": "d5be7a11-bae6-4562-b94b-497939ef8013",
   "metadata": {},
   "outputs": [
    {
     "data": {
      "text/plain": [
       "{\n",
       "  question: RunnableLambda(itemgetter('question')),\n",
       "  context: RunnableLambda(itemgetter('context')),\n",
       "  chat_history: RunnableLambda(itemgetter('chat_history'))\n",
       "}\n",
       "| PromptTemplate(input_variables=['chat_history', 'context', 'question'], input_types={}, partial_variables={}, metadata={'lc_hub_owner': 'teddynote', 'lc_hub_repo': 'rag-prompt-chat-history', 'lc_hub_commit_hash': '9ca39c3b3a117e4f8408d51bd71a87fc17fe6fd1d01986c449eecaebc02d549f'}, template=\"You are an AI assistant specializing in Question-Answering (QA) tasks within a Retrieval-Augmented Generation (RAG) system. \\nYour primary mission is to answer questions based on provided context or chat history.\\nEnsure your response is concise and directly addresses the question without any additional narration.\\n\\n###\\n\\nYou may consider the previous conversation history to answer the question.\\n\\n# Here's the previous conversation history:\\n{chat_history}\\n\\n###\\n\\nYour final answer should be written concisely (but include important numerical values, technical terms, jargon, and names), followed by the source of the information.\\n\\n# Steps\\n\\n1. Carefully read and understand the context provided.\\n2. Identify the key information related to the question within the context.\\n3. Formulate a concise answer based on the relevant information.\\n4. Ensure your final answer directly addresses the question.\\n5. List the source of the answer in bullet points, which must be a file name (with a page number) or URL from the context. Omit if the answer is based on previous conversation or if the source cannot be found.\\n\\n# Output Format:\\n[Your final answer here, with numerical values, technical terms, jargon, and names in their original language]\\n\\n**Source**(Optional)\\n- (Source of the answer, must be a file name(with a page number) or URL from the context. Omit if the answer is based on previous conversation or can't find the source.)\\n- (list more if there are multiple sources)\\n- ...\\n\\n###\\n\\nRemember:\\n- It's crucial to base your answer solely on the **provided context** or **chat history**. \\n- DO NOT use any external knowledge or information not present in the given materials.\\n- If a user asks based on the previous conversation, but if there's no previous conversation or not enough information, you should answer that you don't know.\\n\\n###\\n\\n# Here is the user's question:\\n{question}\\n\\n# Here is the context that you should use to answer the question:\\n{context}\\n\\n# Your final answer to the user's question:\")\n",
       "| ChatOpenAI(client=<openai.resources.chat.completions.completions.Completions object at 0x000001DBB453EB70>, async_client=<openai.resources.chat.completions.completions.AsyncCompletions object at 0x000001DBB453E6C0>, root_client=<openai.OpenAI object at 0x000001DBB453E8A0>, root_async_client=<openai.AsyncOpenAI object at 0x000001DB3446C590>, model_name='gpt-4o-mini', temperature=0.0, model_kwargs={}, openai_api_key=SecretStr('**********'))\n",
       "| StrOutputParser()"
      ]
     },
     "execution_count": 118,
     "metadata": {},
     "output_type": "execute_result"
    }
   ],
   "source": [
    "pdf_chain"
   ]
  },
  {
   "cell_type": "code",
   "execution_count": 119,
   "id": "de5b4429-a00c-4442-99a7-ce82167e4bd7",
   "metadata": {},
   "outputs": [
    {
     "data": {
      "text/plain": [
       "VectorStoreRetriever(tags=['FAISS', 'OpenAIEmbeddings'], vectorstore=<langchain_community.vectorstores.faiss.FAISS object at 0x000001DB34B491D0>, search_kwargs={'k': 10})"
      ]
     },
     "execution_count": 119,
     "metadata": {},
     "output_type": "execute_result"
    }
   ],
   "source": [
    "pdf_retriever"
   ]
  },
  {
   "cell_type": "markdown",
   "id": "8a4ff8e2-d6cb-47b7-ad7e-b0f7fda2ad7d",
   "metadata": {},
   "source": [
    "### Query Router (Vector store or Web Search)"
   ]
  },
  {
   "cell_type": "markdown",
   "id": "f7b42829-a3f9-4795-a00b-af97f9f8e70b",
   "metadata": {},
   "source": [
    "#### Route Prompt"
   ]
  },
  {
   "cell_type": "code",
   "execution_count": 120,
   "id": "7451749a-aeb5-4d72-a848-215479151a56",
   "metadata": {},
   "outputs": [],
   "source": [
    "from typing import Literal\n",
    "from langchain_core.prompts import ChatPromptTemplate\n",
    "from pydantic import BaseModel, Field\n",
    "from langchain_openai import ChatOpenAI\n",
    "\n",
    "system_message = \"\"\" You are an expert at routing user queries to either a vectorstore or a web search engine.\n",
    "                     The vectorstore contains documents specifically about RAG and LangChain.\n",
    "                     If the query is related to RAG or LangChain, use the vectorstore. For all other topics, use the web search engine. \"\"\"\n",
    "\n",
    "route_prompt = ChatPromptTemplate.from_messages(\n",
    "    [\n",
    "        (\"system\", system_message),\n",
    "        (\"human\", \"{query}\"),\n",
    "    ]\n",
    ")"
   ]
  },
  {
   "cell_type": "markdown",
   "id": "150d7236-b355-4801-a0db-b5cb1b77829b",
   "metadata": {},
   "source": [
    "#### Query Router"
   ]
  },
  {
   "cell_type": "code",
   "execution_count": 121,
   "id": "7e157da8-e5ad-4a84-8bad-b0f8ebd83b1c",
   "metadata": {},
   "outputs": [],
   "source": [
    "class RouteQuery(BaseModel):\n",
    "    \"\"\" Route a user query to the most relevant datasource \"\"\"\n",
    "\n",
    "    datasource: Literal[\"vector_store\", \"web_search\"] = Field(\n",
    "        ..., # required\n",
    "        description= \"Route the user query to either the vectorstore or the web search engine based on its content.\"\n",
    "    )\n",
    "\n",
    "llm = ChatOpenAI(model=MODEL_NAME, temperature=0)\n",
    "structured_llm_router = llm.with_structured_output(RouteQuery) # Convert the result to RouteQuery type.\n",
    "\n",
    "query_router = route_prompt | structured_llm_router"
   ]
  },
  {
   "cell_type": "markdown",
   "id": "a285460b-77a3-4b54-b4af-14ecfbe7a362",
   "metadata": {},
   "source": [
    "#### Test Query Router"
   ]
  },
  {
   "cell_type": "code",
   "execution_count": 122,
   "id": "5efd8065-5369-4edc-b701-261f93f1cda4",
   "metadata": {},
   "outputs": [
    {
     "name": "stdout",
     "output_type": "stream",
     "text": [
      "datasource='vector_store'\n"
     ]
    }
   ],
   "source": [
    "print(\n",
    "    query_router.invoke(\n",
    "        {\"query\": \"RAG의 정의는?\"}\n",
    "    )\n",
    ")"
   ]
  },
  {
   "cell_type": "code",
   "execution_count": 123,
   "id": "a38c4e6c-0c8c-45d4-9b09-cce25aa9228b",
   "metadata": {},
   "outputs": [
    {
     "name": "stdout",
     "output_type": "stream",
     "text": [
      "datasource='web_search'\n"
     ]
    }
   ],
   "source": [
    "print(\n",
    "    query_router.invoke(\n",
    "        {\"query\": \"판교에서 가장 맛있는 딤섬집 찾아줘\"}\n",
    "    )\n",
    ")"
   ]
  },
  {
   "cell_type": "markdown",
   "id": "1d6c6d2d-2156-47d1-8a1b-f97ab0579e79",
   "metadata": {},
   "source": [
    "### Retrieval Grader"
   ]
  },
  {
   "cell_type": "markdown",
   "id": "117cf622-8a1d-4d60-a1a3-6f63b8200b3d",
   "metadata": {},
   "source": [
    "#### System Prompt"
   ]
  },
  {
   "cell_type": "code",
   "execution_count": 124,
   "id": "ad3a886f-09c4-4a4e-a6a1-a791921c3fe3",
   "metadata": {},
   "outputs": [],
   "source": [
    "from pydantic import BaseModel, Field\n",
    "from langchain_openai import ChatOpenAI\n",
    "from langchain_core.prompts import ChatPromptTemplate\n",
    "\n",
    "system = \"\"\" You are a grader evaluating the relevance of a retrieved document to a user query.\n",
    "            If the document contains keywords or semantic meanings related to the query, consider it relevant.\n",
    "            This is not a strict test — the goal is to filter out irrelevant results clearly.\n",
    "            Return a binary score: \"yes\" if the document is relevant, or \"no\" if it is not.\"\"\"\n",
    "\n",
    "retrieval_grader_prompt  = ChatPromptTemplate.from_messages(\n",
    "    [\n",
    "        (\"system\", system),\n",
    "        (\"human\", \"Retrieved document: \\n\\n {documents} \\n\\n User query: {query}\"),\n",
    "    ]\n",
    ")"
   ]
  },
  {
   "cell_type": "markdown",
   "id": "7344d998-2b02-4ed3-90f4-d4b71735a356",
   "metadata": {},
   "source": [
    "#### Retrieval Grader"
   ]
  },
  {
   "cell_type": "code",
   "execution_count": 125,
   "id": "5ddd1715-8683-4893-97d5-6dab6ca2f07b",
   "metadata": {},
   "outputs": [],
   "source": [
    "class GradeDocuments(BaseModel):\n",
    "    binary_score: str = Field(\n",
    "        description=\"Are the documents relevant to the user query? Answer 'yes' or 'no'.\"\n",
    "    )\n",
    "\n",
    "llm = ChatOpenAI(model=MODEL_NAME, temperature = 0)\n",
    "structured_llm_grader = llm.with_structured_output(GradeDocuments)\n",
    "\n",
    "retrieval_grader = retrieval_grader_prompt | structured_llm_grader"
   ]
  },
  {
   "cell_type": "markdown",
   "id": "0aa1ffae-3438-4091-ad6c-1fa92b990261",
   "metadata": {},
   "source": [
    "#### Test Retrieval Grader"
   ]
  },
  {
   "cell_type": "code",
   "execution_count": 126,
   "id": "97621783-b043-43c7-8aa4-df1835f66db7",
   "metadata": {},
   "outputs": [
    {
     "name": "stdout",
     "output_type": "stream",
     "text": [
      "binary_score='yes'\n"
     ]
    }
   ],
   "source": [
    "query = \"RAG가 뭐야?\"\n",
    "retrieved_docs = pdf_retriever.invoke(query)\n",
    "retrieved_doc = retrieved_docs[1].page_content\n",
    "print(retrieval_grader.invoke({\"query\":query, \"documents\":retrieved_doc}))"
   ]
  },
  {
   "cell_type": "code",
   "execution_count": 127,
   "id": "f66d3956-6a24-4f5b-9c3f-dbfa14b7f75e",
   "metadata": {},
   "outputs": [],
   "source": [
    "filtered_docs = []\n",
    "for doc in retrieved_docs:\n",
    "    result = retrieval_grader.invoke(\n",
    "        {\n",
    "            \"query\": query,\n",
    "            \"documents\": doc.page_content,\n",
    "        }\n",
    "    )\n",
    "    if result.binary_score == \"yes\":\n",
    "        filtered_docs.append(doc)"
   ]
  },
  {
   "cell_type": "code",
   "execution_count": 128,
   "id": "6b2abcee-947d-4e0d-8c86-fa484b9aadfa",
   "metadata": {},
   "outputs": [
    {
     "name": "stdout",
     "output_type": "stream",
     "text": [
      "[Document(id='e788086e-c64e-4c4c-be12-de6e31054c84', metadata={'source': 'data/RAGwithLangChain.pdf', 'file_path': 'data/RAGwithLangChain.pdf', 'page': 1, 'total_pages': 14, 'Title': 'Part3. RAG with LangChain', 'Producer': 'macOS Version 12.3 (Build 21E230) Quartz PDFContext', 'Creator': 'Keynote', 'CreationDate': \"D:20240423050512Z00'00'\", 'ModDate': \"D:20240423050512Z00'00'\"}, page_content='PART\\nRAG with LangChain'), Document(id='3eb790b9-4431-47c3-b521-022ab8f2da34', metadata={'source': 'data/RAGwithLangChain.pdf', 'file_path': 'data/RAGwithLangChain.pdf', 'page': 7, 'total_pages': 14, 'Title': 'Part3. RAG with LangChain', 'Producer': 'macOS Version 12.3 (Build 21E230) Quartz PDFContext', 'Creator': 'Keynote', 'CreationDate': \"D:20240423050512Z00'00'\", 'ModDate': \"D:20240423050512Z00'00'\"}, page_content='CLIP\\nComparative Analysis of RAG\\nFrameworks'), Document(id='3b479cb1-6c92-42b1-af75-fb90a89bf6ff', metadata={'source': 'data/RAGwithLangChain.pdf', 'file_path': 'data/RAGwithLangChain.pdf', 'page': 0, 'total_pages': 14, 'Title': 'Part3. RAG with LangChain', 'Producer': 'macOS Version 12.3 (Build 21E230) Quartz PDFContext', 'Creator': 'Keynote', 'CreationDate': \"D:20240423050512Z00'00'\", 'ModDate': \"D:20240423050512Z00'00'\"}, page_content='RAG를 활용한 완성도 높은 LLM 서비스 구축\\nWith Langchain & LLamaIndex'), Document(id='7d3eb16c-4334-4617-8385-f998c1f6b4e6', metadata={'source': 'data/RAGwithLangChain.pdf', 'file_path': 'data/RAGwithLangChain.pdf', 'page': 8, 'total_pages': 14, 'Title': 'Part3. RAG with LangChain', 'Producer': 'macOS Version 12.3 (Build 21E230) Quartz PDFContext', 'Creator': 'Keynote', 'CreationDate': \"D:20240423050512Z00'00'\", 'ModDate': \"D:20240423050512Z00'00'\"}, page_content='Comparative analysis of RAG Frameworks\\nChain\\nVectorstore\\nMemory\\nDocument\\nloader\\n🦙\\n🦜🔗\\nTool\\nEmbedding\\nmodel\\nGraph\\nLM\\nAgent')]\n"
     ]
    }
   ],
   "source": [
    "print(filtered_docs)"
   ]
  },
  {
   "cell_type": "markdown",
   "id": "f41b3237-e648-4778-b934-bb7762484d3b",
   "metadata": {},
   "source": [
    "### RAG Chain for answer generation"
   ]
  },
  {
   "cell_type": "code",
   "execution_count": 129,
   "id": "691fc86a-1134-464d-a029-6cd804fb3e97",
   "metadata": {},
   "outputs": [],
   "source": [
    "from langchain import hub\n",
    "from langchain_core.output_parsers import StrOutputParser\n",
    "from langchain_openai import ChatOpenAI\n",
    "\n",
    "prompt = hub.pull(\"qa-rag-prompt/general\")\n",
    "\n",
    "llm = ChatOpenAI(model_name=MODEL_NAME, temperature=0)\n",
    "\n",
    "def format_docs(retrieved_docs):\n",
    "    return \"\\n\\n\".join(\n",
    "        [\n",
    "            f\"\"\"<document>\n",
    "                    <content>\n",
    "                        {doc.page_content}\n",
    "                    </content>\n",
    "                    <source>\n",
    "                        {doc.metadata[\"source\"]}\n",
    "                    </source>\n",
    "                    <page>\n",
    "                        {doc.metadata.get(\"page\", 0) + 1 if \"page\" in doc.metadata else \"unknown\"}\n",
    "                    </page>\n",
    "                </docuemnt>\"\"\" for doc in retrieved_docs\n",
    "        ]\n",
    "    )\n",
    "rag_chain = prompt | llm | StrOutputParser()"
   ]
  },
  {
   "cell_type": "code",
   "execution_count": 130,
   "id": "f51564f7-857b-4c85-9377-2b7f25435cfc",
   "metadata": {},
   "outputs": [
    {
     "name": "stdout",
     "output_type": "stream",
     "text": [
      "I don't know.\n"
     ]
    }
   ],
   "source": [
    "answer = rag_chain.invoke({\"context\": format_docs(retrieved_docs), \"query\": query})\n",
    "print(answer)"
   ]
  },
  {
   "cell_type": "code",
   "execution_count": 131,
   "id": "2423ecdb",
   "metadata": {},
   "outputs": [
    {
     "data": {
      "text/plain": [
       "ChatPromptTemplate(input_variables=['context', 'query'], input_types={}, partial_variables={}, metadata={'lc_hub_owner': 'qa-rag-prompt', 'lc_hub_repo': 'general', 'lc_hub_commit_hash': 'ed61f794b1d06a1dbf28e4e20f4e7f59234aa58d65ddca2ddae4d73adb3e3dd9'}, messages=[SystemMessagePromptTemplate(prompt=PromptTemplate(input_variables=['context', 'query'], input_types={}, partial_variables={}, template='You are an AI assistant specializing in Question-Answering (QA) tasks within a Retrieval-Augmented Generation (RAG) system. \\\\n\\\\n\\nYour primary mission is to answer queries based on the provided context or chat history. \\\\n\\\\n\\nEnsure your response is concise and directly addresses the query without any additional narration. \\\\n\\\\n\\n\\nInstructions: \\\\n\\\\n \\nCarefully read and understand the provided context. \\\\n\\\\n\\n\\nIdentify the key information relevant to the query. \\\\n\\\\n\\n\\nFormulate a concise answer based on the relevant information. \\\\n\\\\n\\n\\nEnsure your final answer directly addresses the query. \\\\n\\\\n\\n\\nList the source(s) of the answer in bullet points, using file names (with page numbers) or URLs from the context. Omit if no source is found. \\\\n\\\\n\\n\\nOutput Format: \\\\n\\\\n\\n[Your final answer here, including numerical values, technical terms, jargon, and names as originally written] \\\\n\\\\n\\n\\nSource (optional): \\\\n\\\\n\\n\\n(Source of the answer; must be a file name with page number, or a URL from the context) \\\\n\\\\n\\n\\n(List additional sources if applicable) \\\\n\\\\n\\n\\n... \\\\n\\\\n\\n\\nImportant Notes: \\\\n\\\\n\\nBase your answer solely on the provided context. \\\\n\\\\n\\n\\nDo not use external knowledge or any information not included in the materials. \\\\n\\\\n\\n\\nIf the answer is not found in the context, respond with: \"I don\\'t know.\" \\\\n\\\\n\\n\\nUser Query:\\\\n\\\\n\\n{query} \\\\n\\\\n\\n\\nProvided Context: \\\\n\\\\n\\n{context} \\\\n\\\\n\\n\\nFinal Answer: \\\\n\\\\n'), additional_kwargs={}), HumanMessagePromptTemplate(prompt=PromptTemplate(input_variables=[], input_types={}, partial_variables={}, template=''), additional_kwargs={})])"
      ]
     },
     "execution_count": 131,
     "metadata": {},
     "output_type": "execute_result"
    }
   ],
   "source": [
    "prompt"
   ]
  },
  {
   "cell_type": "markdown",
   "id": "f7165580-29f6-402b-aa98-e374ed9cc47f",
   "metadata": {},
   "source": [
    "### Hallucination Checker"
   ]
  },
  {
   "cell_type": "markdown",
   "id": "754f2dfa-1714-4ad7-b742-36885c43f634",
   "metadata": {},
   "source": [
    "#### Hallucination Check Prompt"
   ]
  },
  {
   "cell_type": "code",
   "execution_count": 132,
   "id": "cf714437-78c1-4090-b10e-00823f29cf64",
   "metadata": {},
   "outputs": [],
   "source": [
    "system = \"\"\"You are a grader assessing whether an LLM-generated answer is grounded in or supported by a set of provided facts.\n",
    "            Provide a binary score: \"yes\" if the answer is grounded in the facts, or \"no\" if it is not.\"\"\"\n",
    "\n",
    "hallucination_prompt = ChatPromptTemplate.from_messages(\n",
    "    [\n",
    "        (\"system\", system),\n",
    "        (\"human\", \"Set of facts: \\n\\n {documents} \\n\\n LLM generation: {answer}\")\n",
    "    ]\n",
    ")"
   ]
  },
  {
   "cell_type": "markdown",
   "id": "78891ad9-7da9-446f-8ab4-0923454945a6",
   "metadata": {},
   "source": [
    "#### Hallucination Checker"
   ]
  },
  {
   "cell_type": "code",
   "execution_count": 133,
   "id": "e3f30df6-09cd-4140-b878-705e65095d60",
   "metadata": {},
   "outputs": [],
   "source": [
    "class CheckHallucinations(BaseModel):\n",
    "    binary_score: Literal[\"yes\", \"no\"] = Field(\n",
    "        description = \"Indicate whether the answer is grounded in the provided facts. Use 'yes' if it is, or 'no' if it is not.\"\n",
    "    )\n",
    "\n",
    "llm = ChatOpenAI(model=MODEL_NAME, temperature = 0)\n",
    "structured_llm_checker = llm.with_structured_output(CheckHallucinations)\n",
    "\n",
    "hallucination_checker = hallucination_prompt | structured_llm_checker"
   ]
  },
  {
   "cell_type": "code",
   "execution_count": 134,
   "id": "f278b582-3079-4d52-9eee-4bdffff73485",
   "metadata": {},
   "outputs": [
    {
     "data": {
      "text/plain": [
       "CheckHallucinations(binary_score='no')"
      ]
     },
     "execution_count": 134,
     "metadata": {},
     "output_type": "execute_result"
    }
   ],
   "source": [
    "hallucination_checker.invoke({\"documents\": retrieved_docs, \"answer\": answer})"
   ]
  },
  {
   "cell_type": "markdown",
   "id": "e1ae15f1-a2ed-4568-94d9-50c2b3c44eee",
   "metadata": {},
   "source": [
    "### Answer Evaluator"
   ]
  },
  {
   "cell_type": "markdown",
   "id": "fd168c44-22d6-4e3c-9443-3f7e29cb9c70",
   "metadata": {},
   "source": [
    "#### Answer Evaluation Prompt"
   ]
  },
  {
   "cell_type": "code",
   "execution_count": 135,
   "id": "daf677e3-b3c5-4575-b4d4-6ed46618f32c",
   "metadata": {},
   "outputs": [],
   "source": [
    "system = \"\"\" You are an evaluator assessing whether the answer sufficiently addresses or resolves the user query.\n",
    "            Provide a binary score: \"yes\" if the answer resolves the query, or \"no\" if it does not. \"\"\"\n",
    "answer_prompt = ChatPromptTemplate.from_messages(\n",
    "    [\n",
    "        (\"system\", system),\n",
    "        (\"human\", \"User query: \\n\\n {query} \\n\\n LLM answer: {answer}\"),\n",
    "    ]\n",
    ")"
   ]
  },
  {
   "cell_type": "markdown",
   "id": "c347edae-e9a4-4664-b8b4-7e8e21fa82f0",
   "metadata": {},
   "source": [
    "#### Answer Evaluator"
   ]
  },
  {
   "cell_type": "code",
   "execution_count": 136,
   "id": "49a94760-3b03-49c2-855a-f532848b0df9",
   "metadata": {},
   "outputs": [],
   "source": [
    "class EvaluateAnswer(BaseModel):\n",
    "    binary_score: str = Field(\n",
    "        description=\"Respond with 'yes' or 'no' to indicate if the answer resolves the query.\"\n",
    "    )\n",
    "\n",
    "llm = ChatOpenAI(model=MODEL_NAME, temperature=0)\n",
    "structured_llm_grader = llm.with_structured_output(EvaluateAnswer)\n",
    "\n",
    "answer_evaluator = answer_prompt | structured_llm_grader"
   ]
  },
  {
   "cell_type": "code",
   "execution_count": 137,
   "id": "e0818cac-9ffe-4997-9795-89a3e2777b2e",
   "metadata": {},
   "outputs": [
    {
     "data": {
      "text/plain": [
       "EvaluateAnswer(binary_score='no')"
      ]
     },
     "execution_count": 137,
     "metadata": {},
     "output_type": "execute_result"
    }
   ],
   "source": [
    "answer_evaluator.invoke({\"query\": query, \"answer\": answer})"
   ]
  },
  {
   "cell_type": "markdown",
   "id": "20ce4303-e5f4-429a-ab82-3b6657bb466b",
   "metadata": {},
   "source": [
    "### Query Rewriter"
   ]
  },
  {
   "cell_type": "code",
   "execution_count": 138,
   "id": "c51ec1ca-bd8b-4a13-8760-e543d18bd9cf",
   "metadata": {},
   "outputs": [],
   "source": [
    "from langchain_openai import ChatOpenAI\n",
    "from langchain_core.prompts import ChatPromptTemplate\n",
    "from langchain_core.output_parsers import StrOutputParser\n",
    "\n",
    "system = \"\"\"You are a query rewriter tasked with optimizing input queries for vectorstore retrieval. \n",
    "            Examine the query carefully and reason about its underlying semantic meaning.\"\"\"\n",
    "\n",
    "rewrite_prompt = ChatPromptTemplate.from_messages(\n",
    "    [\n",
    "        (\"system\", system),\n",
    "        (\"human\", \"Here is the initial query: \\n\\n {query} \\n Formulate an improved query.\")\n",
    "    ]\n",
    ")\n",
    "\n",
    "query_rewriter = rewrite_prompt | llm | StrOutputParser()"
   ]
  },
  {
   "cell_type": "code",
   "execution_count": 139,
   "id": "72d2a71b-71e8-4166-99e9-7448dbc0ae8e",
   "metadata": {},
   "outputs": [
    {
     "data": {
      "text/plain": [
       "\"{'query': 'RAG의 정의와 의미는 무엇인가요?'}\""
      ]
     },
     "execution_count": 139,
     "metadata": {},
     "output_type": "execute_result"
    }
   ],
   "source": [
    "query_rewriter.invoke({\"query\", query})"
   ]
  },
  {
   "cell_type": "markdown",
   "id": "e94530b9-9630-4e75-974c-65c94bd658f0",
   "metadata": {},
   "source": [
    "### Web Search tool"
   ]
  },
  {
   "cell_type": "code",
   "execution_count": null,
   "id": "45555320-3782-4f59-a0ea-6b141b35aea6",
   "metadata": {},
   "outputs": [],
   "source": [
    "from utils.websearch import TavilySearch\n",
    "\n",
    "web_search_tool = TavilySearch(max_results = 2)\n",
    "\n",
    "result = web_search_tool.search(\"랭그래프의 위키독스 URL을 알려주세요\")\n",
    "print(result)"
   ]
  },
  {
   "cell_type": "markdown",
   "id": "badec24e-22bd-4fa2-8557-4fca37660d58",
   "metadata": {},
   "source": [
    "## State Definition"
   ]
  },
  {
   "cell_type": "code",
   "execution_count": 106,
   "id": "a350f774-201e-4cd8-9040-070ad16dce81",
   "metadata": {},
   "outputs": [],
   "source": [
    "from typing import Annotated, Sequence, TypedDict\n",
    "from langchain_core.messages import BaseMessage\n",
    "from langgraph.graph.message import add_messages\n",
    "from langgraph.graph import MessagesState\n",
    "from typing import Any, Dict, List, Callable, Optional\n",
    "\n",
    "class GraphState(MessagesState):\n",
    "    query: Annotated[str, \"User query\"]\n",
    "    answer: Annotated[str, \"LLM generated answer\"]\n",
    "    documents: Annotated[List[str], \"List of documents\"]\n",
    "    source: Annotated[str, \"Data source\"]"
   ]
  },
  {
   "cell_type": "markdown",
   "id": "7523a6be-c3d8-443a-9e6b-9f7a8e2d6edc",
   "metadata": {},
   "source": [
    "## Funcs for Conditional Edges"
   ]
  },
  {
   "cell_type": "code",
   "execution_count": 107,
   "id": "08c67639-7b37-44a7-b788-efb6c1b7b8a9",
   "metadata": {},
   "outputs": [],
   "source": [
    "def route_query(state):\n",
    "    print(\"=== [ROUTE QUERY] ===\")\n",
    "\n",
    "    query = state[\"query\"]\n",
    "\n",
    "    routing_result = query_router.invoke({\"query\":query})\n",
    "\n",
    "    if routing_result.datasource == \"web_search\":\n",
    "        print(\"--- [ROUTING QUERY TO WEB SEARCH] ---\")\n",
    "        return \"web_search\"\n",
    "    elif routing_result.datasource == \"vector_store\":\n",
    "        print(\"--- [ROUTING QUERY TO VECTOR STORE] ---\")\n",
    "        return \"vector_store\"\n",
    "    else:\n",
    "        print(f\"예상치 못한 datasource: {routing_result.datasource}\")\n",
    "        return \"vector_store\"  # fallback\n",
    "\n",
    "def check_hallucination(state):\n",
    "    print(\" === [CHECK HALLUCINATION] ===\")\n",
    "    source = state[\"source\"]\n",
    "    retrieved_documents = state[\"documents\"]\n",
    "    answer = state[\"answer\"]\n",
    "\n",
    "    result = hallucination_checker.invoke(\n",
    "        {\"documents\": retrieved_documents, \"answer\": answer}\n",
    "    )\n",
    "    grade = result.binary_score\n",
    "\n",
    "    if grade == \"no\":\n",
    "        if source == \"vector_store\":\n",
    "            return \"vector store hallucination\"\n",
    "        elif source == \"web_search\":\n",
    "            return \"web search hallucination\"\n",
    "        else:\n",
    "            print(\"The source is ambigous.\", source)\n",
    "            return \"no hallucination\"\n",
    "    else:\n",
    "        return \"no hallucination\"\n",
    "\n",
    "def decide_to_generate(state):\n",
    "    print(\"=== [DECISION TO GENERATE ANSWER] ===\")\n",
    "    filtered_documents = state[\"documents\"]\n",
    "\n",
    "    if not filtered_documents:\n",
    "        print(\"--- [NO RELEVANT DOCUMENT FOUND] ---\")\n",
    "        return \"give up\"\n",
    "    else:\n",
    "        print(\"--- [RELEVANT DOCUMENTS FOUND] ---\")\n",
    "        return \"generate_answer\""
   ]
  },
  {
   "cell_type": "markdown",
   "id": "bf875d28-4ff4-424e-ac2d-4b3639a7553f",
   "metadata": {},
   "source": [
    "## Node Definition"
   ]
  },
  {
   "cell_type": "code",
   "execution_count": 108,
   "id": "95fca502-cd5c-4084-83d8-188942113bbc",
   "metadata": {},
   "outputs": [],
   "source": [
    "from langchain_core.documents import Document\n",
    "\n",
    "def retrieve(state):\n",
    "    print(\"=== [RETRIEVE] ===\")\n",
    "    \n",
    "    query = state[\"query\"]\n",
    "\n",
    "    retrieved_documents = pdf_retriever.invoke(query)\n",
    "    return {\"documents\": retrieved_documents, \"source\": \"vector_store\"}\n",
    "\n",
    "def generate_answer(state):\n",
    "    print(\"=== [GENERATE ANSWER] ===\")\n",
    "    query = state[\"query\"]\n",
    "    retrieved_documents = state[\"documents\"]\n",
    "\n",
    "    answer = rag_chain.invoke({\"context\": format_docs(retrieved_documents), \"query\": query})\n",
    "    return {\"answer\": answer} \n",
    "\n",
    "def filter_documents(state):\n",
    "    print(\"=== [GRADE RETREIVED DOCUMENTS] ===\")\n",
    "    query = state[\"query\"]\n",
    "    retrieved_documents = state[\"documents\"]\n",
    "\n",
    "    filtered_docs = []\n",
    "    for doc in retrieved_documents:\n",
    "        result = retrieval_grader.invoke(\n",
    "            {\"query\": query, \"documents\": doc.page_content}\n",
    "        )\n",
    "        grade = result.binary_score\n",
    "\n",
    "        if grade == \"yes\":\n",
    "            print(\"--GRADE: DOC IS RELEVANT---\")\n",
    "            filtered_docs.append(doc)\n",
    "        else:\n",
    "            print(\"--GRADE: DOC IS IRRELEVANT---\")\n",
    "            continue\n",
    "    return {\"documents\": filtered_docs}\n",
    "\n",
    "def rewrite_query(state):\n",
    "    print(\"===[REWRITE QUERY]===\")\n",
    "    query = state[\"query\"]\n",
    "\n",
    "    better_query = query_rewriter.invoke({\"query\": query})\n",
    "    return {\"query\": better_query}\n",
    "\n",
    "def search_web(state):\n",
    "    print(\"=== [WEB SEARCH]===\")\n",
    "    \n",
    "    query = state[\"query\"]\n",
    "    \n",
    "    web_results = web_search_tool.invoke({\"query\": query})\n",
    "    print(\"CHECK: \", len(web_results))\n",
    "    web_docs = [\n",
    "        Document( \n",
    "            page_content = web_result[\"content\"],\n",
    "            metadata={\"source\": web_result[\"url\"]}\n",
    "            ) \n",
    "            for web_result in web_results\n",
    "    ]\n",
    "\n",
    "    print(\"ALGUD IN THE HOOD.\")\n",
    "    return {\n",
    "                \"documents\": web_docs,\n",
    "                \"source\": \"web_search\"\n",
    "            }\n",
    "\n",
    "\n",
    "\n"
   ]
  },
  {
   "attachments": {
    "e244fe47-d5ec-4857-84b8-b649b732292f.png": {
     "image/png": "[encoded data removed]"
    }
   },
   "cell_type": "markdown",
   "id": "b9dc82e6-0ac9-402d-aa16-59832df72d38",
   "metadata": {},
   "source": [
    "![image.png](attachment:e244fe47-d5ec-4857-84b8-b649b732292f.png)"
   ]
  },
  {
   "cell_type": "markdown",
   "id": "0cdc385a-1993-4050-b3ee-3b1a35b8f885",
   "metadata": {},
   "source": [
    "## Graph Definition"
   ]
  },
  {
   "cell_type": "code",
   "execution_count": 109,
   "id": "59668098-f364-4140-9273-310533cc9cc1",
   "metadata": {},
   "outputs": [],
   "source": [
    "from langgraph.graph import END, StateGraph, START\n",
    "from langgraph.checkpoint.memory import MemorySaver\n",
    "from langchain_core.runnables import RunnableLambda\n",
    "\n",
    "workflow = StateGraph(GraphState)\n",
    "\n",
    "# Adding nodes\n",
    "workflow.add_node(\"rewrite_query\", rewrite_query)\n",
    "workflow.add_node(\"search_web\", search_web)\n",
    "workflow.add_node(\"retrieve\", retrieve)\n",
    "workflow.add_node(\"filter_documents\", filter_documents)\n",
    "workflow.add_node(\"generate_answer\", generate_answer)\n",
    "\n",
    "# Adding edges\n",
    "workflow.add_edge(START, \"rewrite_query\")\n",
    "workflow.add_conditional_edges(\n",
    "    \"rewrite_query\",\n",
    "    route_query,\n",
    "    {\n",
    "        \"web_search\": \"search_web\",\n",
    "        \"vector_store\": \"retrieve\"\n",
    "    },\n",
    ")\n",
    "\n",
    "workflow.add_edge(\"search_web\", \"generate_answer\")\n",
    "workflow.add_edge(\"retrieve\", \"filter_documents\")\n",
    "\n",
    "workflow.add_conditional_edges(\n",
    "    \"filter_documents\",\n",
    "    decide_to_generate,\n",
    "    {\n",
    "        \"give up\": END,\n",
    "        \"generate_answer\": \"generate_answer\",\n",
    "    }\n",
    ")\n",
    "\n",
    "workflow.add_conditional_edges(\n",
    "    \"generate_answer\",\n",
    "    check_hallucination,\n",
    "    {\n",
    "        \"no hallucination\": END,\n",
    "        \"vector store hallucination\": \"generate_answer\", # Re-generate answer since there's hallucination\n",
    "        \"web search hallucination\": \"search_web\", # Re-generate answer since there's hallucination\n",
    "    }    \n",
    ")\n",
    "\n",
    "app = workflow.compile(checkpointer=MemorySaver())"
   ]
  },
  {
   "cell_type": "code",
   "execution_count": 110,
   "id": "57f58288-4a8d-47fd-8b64-8a47a1e99d47",
   "metadata": {},
   "outputs": [],
   "source": [
    "# from utils.visualize import visualize_graph\n",
    "# visualize_graph(app)"
   ]
  },
  {
   "cell_type": "code",
   "execution_count": 111,
   "id": "1be16bed-62db-4a70-b27e-dc6f3c9cd821",
   "metadata": {},
   "outputs": [
    {
     "name": "stdout",
     "output_type": "stream",
     "text": [
      "---\n",
      "config:\n",
      "  flowchart:\n",
      "    curve: linear\n",
      "---\n",
      "graph TD;\n",
      "\t__start__([<p>__start__</p>]):::first\n",
      "\trewrite_query(rewrite_query)\n",
      "\tsearch_web(search_web)\n",
      "\tretrieve(retrieve)\n",
      "\tfilter_documents(filter_documents)\n",
      "\tgenerate_answer(generate_answer)\n",
      "\t__end__([<p>__end__</p>]):::last\n",
      "\t__start__ --> rewrite_query;\n",
      "\tfilter_documents -. &nbsp;give up&nbsp; .-> __end__;\n",
      "\tfilter_documents -.-> generate_answer;\n",
      "\tgenerate_answer -. &nbsp;no hallucination&nbsp; .-> __end__;\n",
      "\tgenerate_answer -. &nbsp;web search hallucination&nbsp; .-> search_web;\n",
      "\tretrieve --> filter_documents;\n",
      "\trewrite_query -. &nbsp;vector_store&nbsp; .-> retrieve;\n",
      "\trewrite_query -. &nbsp;web_search&nbsp; .-> search_web;\n",
      "\tsearch_web --> generate_answer;\n",
      "\tgenerate_answer -. &nbsp;vector store hallucination&nbsp; .-> generate_answer;\n",
      "\tclassDef default fill:#f2f0ff,line-height:1.2\n",
      "\tclassDef first fill-opacity:0\n",
      "\tclassDef last fill:#bfb6fc\n",
      "\n"
     ]
    }
   ],
   "source": [
    "mermaid_code = app.get_graph().draw_mermaid()\n",
    "print(mermaid_code)"
   ]
  },
  {
   "cell_type": "code",
   "execution_count": 112,
   "id": "41d43947-2c91-4af8-b8a2-0d75432c7eb7",
   "metadata": {},
   "outputs": [],
   "source": [
    "from langchain_core.runnables import RunnableConfig\n",
    "from langgraph.graph.state import CompiledStateGraph\n",
    "def invoke_graph(\n",
    "    graph: CompiledStateGraph,\n",
    "    inputs: dict,\n",
    "    config: RunnableConfig,\n",
    "    node_names: List[str] = [],\n",
    "    callback: Callable = None,\n",
    "):\n",
    "    \"\"\"\n",
    "    Prints the output of the app in a customized format. \n",
    "\n",
    "    Args:\n",
    "        graph (CompiledStateGraph): 실행할 컴파일된 LangGraph 객체\n",
    "        inputs (dict): 그래프에 전달할 입력값 딕셔너리\n",
    "        config (RunnableConfig): 실행 설정\n",
    "        node_names (List[str], optional): 출력할 노드 이름 목록. 기본값은 빈 리스트\n",
    "        callback (Callable, optional): 각 청크 처리를 위한 콜백 함수. 기본값은 None\n",
    "            콜백 함수는 {\"node\": str, \"content\": str} 형태의 딕셔너리를 인자로 받습니다.\n",
    "\n",
    "    Returns:\n",
    "        None: 함수는 스트리밍 결과를 출력만 하고 반환값은 없습니다.\n",
    "    \"\"\"\n",
    "\n",
    "    def format_namespace(namespace):\n",
    "        return namespace[-1].split(\":\")[0] if len(namespace) > 0 else \"root graph\"\n",
    "\n",
    "    # subgraphs=True 를 통해 서브그래프의 출력도 포함\n",
    "    for namespace, chunk in graph.stream(\n",
    "        inputs, config, stream_mode=\"updates\", subgraphs=True\n",
    "    ):\n",
    "        for node_name, node_chunk in chunk.items():\n",
    "            # node_names가 비어있지 않은 경우에만 필터링\n",
    "            if len(node_names) > 0 and node_name not in node_names:\n",
    "                continue\n",
    "\n",
    "            # 콜백 함수가 있는 경우 실행\n",
    "            if callback is not None:\n",
    "                callback({\"node\": node_name, \"content\": node_chunk})\n",
    "            # 콜백이 없는 경우 기본 출력\n",
    "            else:\n",
    "                print(\"\\n\" + \"=\" * 50)\n",
    "                formatted_namespace = format_namespace(namespace)\n",
    "                if formatted_namespace == \"root graph\":\n",
    "                    print(f\"🔄 Node: \\033[1;36m{node_name}\\033[0m 🔄\")\n",
    "                else:\n",
    "                    print(\n",
    "                        f\"🔄 Node: \\033[1;36m{node_name}\\033[0m in [\\033[1;33m{formatted_namespace}\\033[0m] 🔄\"\n",
    "                    )\n",
    "                print(\"- \" * 25)\n",
    "\n",
    "                # 노드의 청크 데이터 출력\n",
    "                if isinstance(node_chunk, dict):\n",
    "                    for k, v in node_chunk.items():\n",
    "                        if isinstance(v, BaseMessage):\n",
    "                            v.pretty_print()\n",
    "                        elif isinstance(v, list):\n",
    "                            for list_item in v:\n",
    "                                if isinstance(list_item, BaseMessage):\n",
    "                                    list_item.pretty_print()\n",
    "                                else:\n",
    "                                    print(list_item)\n",
    "                        elif isinstance(v, dict):\n",
    "                            for node_chunk_key, node_chunk_value in node_chunk.items():\n",
    "                                print(f\"{node_chunk_key}:\\n{node_chunk_value}\")\n",
    "                        else:\n",
    "                            print(f\"\\033[1;32m{k}\\033[0m:\\n{v}\")\n",
    "                else:\n",
    "                    if node_chunk is not None:\n",
    "                        for item in node_chunk:\n",
    "                            print(item)\n",
    "                print(\"=\" * 50)"
   ]
  },
  {
   "cell_type": "code",
   "execution_count": 113,
   "id": "8488c778-d9c1-49ff-927c-448a76e2d605",
   "metadata": {
    "scrolled": true
   },
   "outputs": [
    {
     "name": "stdout",
     "output_type": "stream",
     "text": [
      "===[REWRITE QUERY]===\n",
      "=== [ROUTE QUERY] ===\n",
      "--- [ROUTING QUERY TO WEB SEARCH] ---\n",
      "\n",
      "==================================================\n",
      "🔄 Node: \u001b[1;36mrewrite_query\u001b[0m 🔄\n",
      "- - - - - - - - - - - - - - - - - - - - - - - - - \n",
      "\u001b[1;32mquery\u001b[0m:\n",
      "이영진에 대한 정보는 무엇인가요?\n",
      "==================================================\n",
      "=== [WEB SEARCH]===\n",
      "CHECK:  2\n",
      "ALGUD IN THE HOOD.\n",
      "\n",
      "==================================================\n",
      "🔄 Node: \u001b[1;36msearch_web\u001b[0m 🔄\n",
      "- - - - - - - - - - - - - - - - - - - - - - - - - \n",
      "page_content='골 때리는 그녀들에 모델 겸 배우 이영진에 대한 관심이 높습니다. 이영진은 앞서 지난 2021년 12월 8일 골 때리는 그녀들에 fc액셔니스타의 새 멤버로 합류했지만 연습 경기에서 햄스트링 부상을 당해 경기에 출전하지 못해 아쉬움을 안긴 바 있습니다. 하지만 이후 지난해(2022) 2월 다시 복귀, 지금까지' metadata={'source': 'https://mway2.tistory.com/4083'}\n",
      "page_content='이영진 프로필 나이 결혼 남편 배정훈 모델겸 배우 이영진의 최근 소식으로는 sbs 예능 프로그램 '골때리는 그녀들'에서 '액셔니 스타' 팀으로 맹활약 하고 있습니다. 오늘은 배우 이영진에 대해서 알아보는 시간을 가져보려고 하는데 이영진 프로필 정보와 나이 리즈 과거얼굴 고향 결혼 남편 남자' metadata={'source': 'https://dictionarypeople.tistory.com/1628'}\n",
      "\u001b[1;32msource\u001b[0m:\n",
      "web_search\n",
      "==================================================\n",
      "=== [GENERATE ANSWER] ===\n",
      " === [CHECK HALLUCINATION] ===\n",
      "\n",
      "==================================================\n",
      "🔄 Node: \u001b[1;36mgenerate_answer\u001b[0m 🔄\n",
      "- - - - - - - - - - - - - - - - - - - - - - - - - \n",
      "\u001b[1;32manswer\u001b[0m:\n",
      "I don't know.\n",
      "==================================================\n",
      "=== [WEB SEARCH]===\n",
      "CHECK:  2\n",
      "ALGUD IN THE HOOD.\n",
      "\n",
      "==================================================\n",
      "🔄 Node: \u001b[1;36msearch_web\u001b[0m 🔄\n",
      "- - - - - - - - - - - - - - - - - - - - - - - - - \n",
      "page_content='골 때리는 그녀들에 모델 겸 배우 이영진에 대한 관심이 높습니다. 이영진은 앞서 지난 2021년 12월 8일 골 때리는 그녀들에 fc액셔니스타의 새 멤버로 합류했지만 연습 경기에서 햄스트링 부상을 당해 경기에 출전하지 못해 아쉬움을 안긴 바 있습니다. 하지만 이후 지난해(2022) 2월 다시 복귀, 지금까지' metadata={'source': 'https://mway2.tistory.com/4083'}\n",
      "page_content='이영진 프로필 나이 결혼 남편 배정훈 모델겸 배우 이영진의 최근 소식으로는 sbs 예능 프로그램 '골때리는 그녀들'에서 '액셔니 스타' 팀으로 맹활약 하고 있습니다. 오늘은 배우 이영진에 대해서 알아보는 시간을 가져보려고 하는데 이영진 프로필 정보와 나이 리즈 과거얼굴 고향 결혼 남편 남자' metadata={'source': 'https://dictionarypeople.tistory.com/1628'}\n",
      "\u001b[1;32msource\u001b[0m:\n",
      "web_search\n",
      "==================================================\n",
      "=== [GENERATE ANSWER] ===\n",
      " === [CHECK HALLUCINATION] ===\n",
      "\n",
      "==================================================\n",
      "🔄 Node: \u001b[1;36mgenerate_answer\u001b[0m 🔄\n",
      "- - - - - - - - - - - - - - - - - - - - - - - - - \n",
      "\u001b[1;32manswer\u001b[0m:\n",
      "I don't know.\n",
      "==================================================\n",
      "GraphRecursionError: Recursion limit of 5 reached without hitting a stop condition. You can increase the limit by setting the `recursion_limit` config key.\n",
      "For troubleshooting, visit: https://python.langchain.com/docs/troubleshooting/errors/GRAPH_RECURSION_LIMIT\n"
     ]
    }
   ],
   "source": [
    "from langchain_core.runnables import RunnableConfig\n",
    "from langchain_core.messages import BaseMessage, HumanMessage, AIMessage\n",
    "from langgraph.errors import GraphRecursionError\n",
    "\n",
    "config = RunnableConfig(recursion_limit=5, configurable={\"thread_id\": \"1\"})\n",
    "\n",
    "user_input = GraphState(query=\"이영진이 누구지?\")\n",
    "\n",
    "try:\n",
    "    invoke_graph(app, user_input, config, [])\n",
    "except GraphRecursionError as recursion_error:\n",
    "    print(f\"GraphRecursionError: {recursion_error}\")"
   ]
  },
  {
   "cell_type": "code",
   "execution_count": 114,
   "id": "94873fe4-2259-4971-a650-cd15b917f0e2",
   "metadata": {},
   "outputs": [
    {
     "name": "stdout",
     "output_type": "stream",
     "text": [
      "D\n"
     ]
    }
   ],
   "source": [
    "print(\"D\")"
   ]
  },
  {
   "cell_type": "code",
   "execution_count": null,
   "id": "ba2fef30",
   "metadata": {},
   "outputs": [],
   "source": []
  },
  {
   "cell_type": "code",
   "execution_count": null,
   "id": "b7dbc96c",
   "metadata": {},
   "outputs": [],
   "source": []
  }
 ],
 "metadata": {
  "kernelspec": {
   "display_name": "langgraph_env",
   "language": "python",
   "name": "python3"
  },
  "language_info": {
   "codemirror_mode": {
    "name": "ipython",
    "version": 3
   },
   "file_extension": ".py",
   "mimetype": "text/x-python",
   "name": "python",
   "nbconvert_exporter": "python",
   "pygments_lexer": "ipython3",
   "version": "3.13.3"
  }
 },
 "nbformat": 4,
 "nbformat_minor": 5
}
